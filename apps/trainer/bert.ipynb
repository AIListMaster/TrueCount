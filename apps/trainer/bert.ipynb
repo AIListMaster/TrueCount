{
 "cells": [
  {
   "cell_type": "code",
   "outputs": [
    {
     "name": "stderr",
     "output_type": "stream",
     "text": [
      "Some weights of BertForSequenceClassification were not initialized from the model checkpoint at bert-base-uncased and are newly initialized: ['classifier.bias', 'classifier.weight']\n",
      "You should probably TRAIN this model on a down-stream task to be able to use it for predictions and inference.\n"
     ]
    }
   ],
   "source": [
    "from transformers import BertTokenizer, BertForSequenceClassification, BertConfig\n",
    "from torch import softmax, from_numpy\n",
    "import numpy as np\n",
    "\n",
    "model_name_b = 'bert-base-uncased'\n",
    "\n",
    "tokenizer = BertTokenizer.from_pretrained(model_name_b)\n",
    "\n",
    "config = BertConfig.from_pretrained(model_name_b)\n",
    "\n",
    "model = BertForSequenceClassification.from_pretrained(model_name_b)\n",
    "\n",
    "def sentiment_labels(text):\n",
    "    encoded_input = tokenizer(text, padding=True, truncation=True, max_length=512, return_tensors='pt')\n",
    "    output = model(**encoded_input)\n",
    "    scores = output[0][0].detach().numpy()\n",
    "    scores = softmax(from_numpy(scores), dim=0)  # Convert to PyTorch tensor before applying softmax\n",
    "    ranking = np.argsort(scores)\n",
    "    return ranking"
   ],
   "metadata": {
    "collapsed": false,
    "ExecuteTime": {
     "end_time": "2024-02-26T13:38:56.938753740Z",
     "start_time": "2024-02-26T13:38:55.319731979Z"
    }
   },
   "id": "f320f96ed2926ec7",
   "execution_count": 30
  },
  {
   "cell_type": "code",
   "outputs": [
    {
     "data": {
      "text/plain": "tensor([1, 0])"
     },
     "execution_count": 35,
     "metadata": {},
     "output_type": "execute_result"
    }
   ],
   "source": [
    "text = \"Very bad Service offered by Team.\"\n",
    "sentiment_labels(text)"
   ],
   "metadata": {
    "collapsed": false,
    "ExecuteTime": {
     "end_time": "2024-02-26T13:39:29.039806612Z",
     "start_time": "2024-02-26T13:39:28.992385729Z"
    }
   },
   "id": "2c4dca749a6be9c0",
   "execution_count": 35
  },
  {
   "cell_type": "code",
   "outputs": [],
   "source": [],
   "metadata": {
    "collapsed": false
   },
   "id": "47a54fd5aa750a0d"
  }
 ],
 "metadata": {
  "kernelspec": {
   "display_name": "Python 3",
   "language": "python",
   "name": "python3"
  },
  "language_info": {
   "codemirror_mode": {
    "name": "ipython",
    "version": 2
   },
   "file_extension": ".py",
   "mimetype": "text/x-python",
   "name": "python",
   "nbconvert_exporter": "python",
   "pygments_lexer": "ipython2",
   "version": "2.7.6"
  }
 },
 "nbformat": 4,
 "nbformat_minor": 5
}
