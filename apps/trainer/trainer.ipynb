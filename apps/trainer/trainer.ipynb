{
 "cells": [
  {
   "cell_type": "markdown",
   "source": [
    "Import libraries"
   ],
   "metadata": {
    "collapsed": false
   },
   "id": "8683574ffd8b5876"
  },
  {
   "cell_type": "code",
   "execution_count": 3,
   "id": "initial_id",
   "metadata": {
    "collapsed": true,
    "ExecuteTime": {
     "end_time": "2024-02-26T13:01:41.079129130Z",
     "start_time": "2024-02-26T13:01:41.057775777Z"
    }
   },
   "outputs": [],
   "source": [
    "import pandas as pd\n",
    "from torch.utils.data import DataLoader, Dataset\n",
    "from transformers import BertTokenizer, BertForSequenceClassification\n",
    "import torch"
   ]
  },
  {
   "cell_type": "markdown",
   "source": [
    "Load BERT model and tokenizer"
   ],
   "metadata": {
    "collapsed": false
   },
   "id": "2b39c6ba4857f771"
  },
  {
   "cell_type": "code",
   "outputs": [
    {
     "name": "stderr",
     "output_type": "stream",
     "text": [
      "Some weights of BertForSequenceClassification were not initialized from the model checkpoint at bert-base-uncased and are newly initialized: ['classifier.bias', 'classifier.weight']\n",
      "You should probably TRAIN this model on a down-stream task to be able to use it for predictions and inference.\n"
     ]
    }
   ],
   "source": [
    "tokenizer = BertTokenizer.from_pretrained('bert-base-uncased')\n",
    "model = BertForSequenceClassification.from_pretrained('bert-base-uncased')"
   ],
   "metadata": {
    "collapsed": false,
    "ExecuteTime": {
     "end_time": "2024-02-26T13:01:56.137605230Z",
     "start_time": "2024-02-26T13:01:55.009898764Z"
    }
   },
   "id": "7a72858d4eb4570b",
   "execution_count": 4
  },
  {
   "cell_type": "markdown",
   "source": [
    "Function to preprocess text"
   ],
   "metadata": {
    "collapsed": false
   },
   "id": "f4a9e24fb922caf3"
  },
  {
   "cell_type": "code",
   "outputs": [],
   "source": [
    "def preprocess_text_list(texts):\n",
    "    inputs = tokenizer(texts, return_tensors=\"pt\", truncation=True, padding=True, max_length=512, is_split_into_words=True)\n",
    "    return inputs"
   ],
   "metadata": {
    "collapsed": false,
    "ExecuteTime": {
     "end_time": "2024-02-26T13:14:18.995731099Z",
     "start_time": "2024-02-26T13:14:18.952178470Z"
    }
   },
   "id": "6915567baf569e05",
   "execution_count": 21
  },
  {
   "cell_type": "markdown",
   "source": [
    "Load dataset (replace 'your_dataset.csv' with your actual dataset)"
   ],
   "metadata": {
    "collapsed": false
   },
   "id": "c1c46bb7fa5eef9b"
  },
  {
   "cell_type": "code",
   "outputs": [],
   "source": [
    "df = pd.read_csv('reviews.csv')"
   ],
   "metadata": {
    "collapsed": false,
    "ExecuteTime": {
     "end_time": "2024-02-26T13:14:24.236388502Z",
     "start_time": "2024-02-26T13:14:24.222986399Z"
    }
   },
   "id": "1f6e591379b00750",
   "execution_count": 22
  },
  {
   "cell_type": "markdown",
   "source": [
    "Preprocess the data"
   ],
   "metadata": {
    "collapsed": false
   },
   "id": "69c002dfd2f4bd62"
  },
  {
   "cell_type": "code",
   "outputs": [],
   "source": [
    "df['text'] = df['text'].astype(str)"
   ],
   "metadata": {
    "collapsed": false,
    "ExecuteTime": {
     "end_time": "2024-02-26T13:14:26.894343220Z",
     "start_time": "2024-02-26T13:14:26.890454357Z"
    }
   },
   "id": "74c6a85387363a65",
   "execution_count": 23
  },
  {
   "cell_type": "code",
   "outputs": [],
   "source": [
    "inputs = preprocess_text_list(df['text'].tolist())"
   ],
   "metadata": {
    "collapsed": false,
    "ExecuteTime": {
     "end_time": "2024-02-26T13:14:28.722093124Z",
     "start_time": "2024-02-26T13:14:28.558292492Z"
    }
   },
   "id": "2b11024979c96a57",
   "execution_count": 24
  },
  {
   "cell_type": "markdown",
   "source": [
    "Create DataLoader"
   ],
   "metadata": {
    "collapsed": false
   },
   "id": "1a532b2788698ce9"
  },
  {
   "cell_type": "code",
   "outputs": [],
   "source": [
    "class TextDataset(Dataset):\n",
    "    def __init__(self, inputs):\n",
    "        self.inputs = inputs\n",
    "\n",
    "    def __len__(self):\n",
    "        return len(self.inputs['input_ids'])\n",
    "\n",
    "    def __getitem__(self, idx):\n",
    "        return {'input_ids': self.inputs['input_ids'][idx],\n",
    "                'attention_mask': self.inputs['attention_mask'][idx]}\n",
    "\n",
    "dataset = TextDataset(inputs)\n",
    "dataloader = DataLoader(dataset, batch_size=8, shuffle=False)"
   ],
   "metadata": {
    "collapsed": false,
    "ExecuteTime": {
     "end_time": "2024-02-26T13:15:31.163706831Z",
     "start_time": "2024-02-26T13:15:31.138176623Z"
    }
   },
   "id": "c7ed5ea189e0a6b",
   "execution_count": 25
  },
  {
   "cell_type": "markdown",
   "source": [
    "Training loop (you may need to adjust this based on your dataset size and requirements)"
   ],
   "metadata": {
    "collapsed": false
   },
   "id": "1ed4a2f7f29496bd"
  },
  {
   "cell_type": "code",
   "outputs": [
    {
     "name": "stdout",
     "output_type": "stream",
     "text": [
      "Invalid loss value. Skipping this batch.\n",
      "Invalid loss value. Skipping this batch.\n",
      "Invalid loss value. Skipping this batch.\n"
     ]
    }
   ],
   "source": [
    "optimizer = torch.optim.AdamW(model.parameters(), lr=1e-5)\n",
    "\n",
    "device = torch.device('cuda' if torch.cuda.is_available() else 'cpu')\n",
    "model.to(device)\n",
    "\n",
    "num_epochs = 3\n",
    "for epoch in range(num_epochs):\n",
    "    model.train()\n",
    "    for batch in dataloader:\n",
    "        inputs = {key: batch[key].to(device) for key in batch}\n",
    "\n",
    "        # Check for NaN or infinite values in the inputs\n",
    "        if any(torch.isnan(inputs[key]).any() or torch.isinf(inputs[key]).any() for key in inputs):\n",
    "            print(\"NaN or infinite values detected in inputs. Skipping this batch.\")\n",
    "            continue\n",
    "\n",
    "        # Ensure model outputs 'loss' during training\n",
    "        model_outputs = model(**inputs)\n",
    "\n",
    "        # Use the loss directly from model_outputs\n",
    "        loss = model_outputs.loss if hasattr(model_outputs, 'loss') else None\n",
    "\n",
    "        # Check if loss is valid (not None, NaN, or infinite)\n",
    "        if loss is None or torch.isnan(loss) or torch.isinf(loss):\n",
    "            print(\"Invalid loss value. Skipping this batch.\")\n",
    "            continue\n",
    "\n",
    "        loss.backward()\n",
    "\n",
    "        # Clip gradients to prevent exploding gradients\n",
    "        torch.nn.utils.clip_grad_norm_(model.parameters(), max_norm=1.0)\n",
    "\n",
    "        optimizer.step()\n",
    "        optimizer.zero_grad()"
   ],
   "metadata": {
    "collapsed": false,
    "ExecuteTime": {
     "end_time": "2024-02-26T13:24:31.047069536Z",
     "start_time": "2024-02-26T13:24:29.484383031Z"
    }
   },
   "id": "4c9f97a4735e0e56",
   "execution_count": 38
  },
  {
   "cell_type": "markdown",
   "source": [
    "Example usage for prediction"
   ],
   "metadata": {
    "collapsed": false
   },
   "id": "f57653aa7b97e23d"
  },
  {
   "cell_type": "code",
   "outputs": [],
   "source": [
    "def predict_sentiment(text):\n",
    "    model.eval()\n",
    "    with torch.no_grad():\n",
    "        inputs = preprocess_text_list(text)\n",
    "        inputs = {key: inputs[key].to(device) for key in inputs}\n",
    "        outputs = model(**inputs)\n",
    "        predicted_label = torch.argmax(outputs.logits).item()\n",
    "    return predicted_label"
   ],
   "metadata": {
    "collapsed": false,
    "ExecuteTime": {
     "end_time": "2024-02-26T13:24:35.372289275Z",
     "start_time": "2024-02-26T13:24:35.362744418Z"
    }
   },
   "id": "daece3d8218f2d07",
   "execution_count": 39
  },
  {
   "cell_type": "markdown",
   "source": [
    "Example usage for prediction"
   ],
   "metadata": {
    "collapsed": false
   },
   "id": "d3c1ff13ad5236e7"
  },
  {
   "cell_type": "code",
   "outputs": [],
   "source": [
    "text_to_predict = \"Bad Food is not upto the mark. AC is not working. Overall no cooling. Pao for paobhaji is soggy. Chat they r serving doesn’t seems chat even. Dal makhani is yuckk. Fried rice & Manchurian both r tasteless. The only think u can eat is gobhi kulcha.\"\n",
    "predicted_sentiment = predict_sentiment(text_to_predict)"
   ],
   "metadata": {
    "collapsed": false,
    "ExecuteTime": {
     "end_time": "2024-02-26T13:24:38.086484200Z",
     "start_time": "2024-02-26T13:24:38.020704113Z"
    }
   },
   "id": "ecac183d40d74a1",
   "execution_count": 40
  },
  {
   "cell_type": "code",
   "outputs": [
    {
     "name": "stdout",
     "output_type": "stream",
     "text": [
      "Text: \"Bad Food is not upto the mark. AC is not working. Overall no cooling. Pao for paobhaji is soggy. Chat they r serving doesn’t seems chat even. Dal makhani is yuckk. Fried rice & Manchurian both r tasteless. The only think u can eat is gobhi kulcha.\"\n",
      "Predicted Sentiment: Positive\n",
      "1\n"
     ]
    }
   ],
   "source": [
    "sentiment_mapping = {0: 'Negative', 1: 'Positive'}\n",
    "print(f'Text: \"{text_to_predict}\"')\n",
    "print(f'Predicted Sentiment: {sentiment_mapping[predicted_sentiment]}')\n",
    "print(predicted_sentiment)"
   ],
   "metadata": {
    "collapsed": false,
    "ExecuteTime": {
     "end_time": "2024-02-26T13:24:39.330649467Z",
     "start_time": "2024-02-26T13:24:39.303630565Z"
    }
   },
   "id": "ed939b6068d90021",
   "execution_count": 41
  },
  {
   "cell_type": "code",
   "outputs": [],
   "source": [],
   "metadata": {
    "collapsed": false
   },
   "id": "88b46317cc5f6774"
  }
 ],
 "metadata": {
  "kernelspec": {
   "display_name": "Python 3",
   "language": "python",
   "name": "python3"
  },
  "language_info": {
   "codemirror_mode": {
    "name": "ipython",
    "version": 2
   },
   "file_extension": ".py",
   "mimetype": "text/x-python",
   "name": "python",
   "nbconvert_exporter": "python",
   "pygments_lexer": "ipython2",
   "version": "2.7.6"
  }
 },
 "nbformat": 4,
 "nbformat_minor": 5
}
